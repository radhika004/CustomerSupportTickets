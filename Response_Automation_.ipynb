{
  "nbformat": 4,
  "nbformat_minor": 0,
  "metadata": {
    "colab": {
      "provenance": [],
      "authorship_tag": "ABX9TyOJ4sub7bPCKAgKM4EhElg6",
      "include_colab_link": true
    },
    "kernelspec": {
      "name": "python3",
      "display_name": "Python 3"
    },
    "language_info": {
      "name": "python"
    }
  },
  "cells": [
    {
      "cell_type": "markdown",
      "metadata": {
        "id": "view-in-github",
        "colab_type": "text"
      },
      "source": [
        "<a href=\"https://colab.research.google.com/github/radhika004/CustomerSupportTickets/blob/main/Response_Automation_.ipynb\" target=\"_parent\"><img src=\"https://colab.research.google.com/assets/colab-badge.svg\" alt=\"Open In Colab\"/></a>"
      ]
    },
    {
      "cell_type": "code",
      "source": [
        "import csv\n",
        "import random\n",
        "\n",
        "# Response templates based on categories\n",
        "response_templates = {\n",
        "    'Connectivity Issues': \"\"\"\n",
        "    Subject: Internet/Connectivity Issue Cisco Router ISR4331\n",
        "\n",
        "    Dear {customer_name},\n",
        "\n",
        "    Thank you for contacting us regarding the connectivity issue you're experiencing with {product_name} ({issue_description}).\n",
        "\n",
        "    To resolve this, please try the following troubleshooting steps:\n",
        "    1. Restart your modem/router.\n",
        "    2. Check the cable connections and ensure everything is secure.\n",
        "    3. Confirm that your service plan is active and there are no outstanding dues.\n",
        "\n",
        "    If the issue persists after these steps, please let us know, and we will escalate this to our technical team for further investigation.\n",
        "\n",
        "    Best regards,\n",
        "    {company_name} Support Team\n",
        "    \"\"\",\n",
        "    'Billing Issues': \"\"\"\n",
        "    Subject: Billing Issue on AWS Services\n",
        "\n",
        "    Dear {customer_name},\n",
        "\n",
        "    Thank you for contacting us about the billing issue with {product_name}. We are sorry for the inconvenience caused.\n",
        "\n",
        "    We have reviewed your account, and it seems the issue is related to {billing_issue}. Please allow us {processing_time} business days to investigate further. We will notify you once the issue has been resolved.\n",
        "\n",
        "    If you have any urgent concerns, feel free to contact us.\n",
        "\n",
        "    Best regards,\n",
        "    {company_name} Billing Support\n",
        "    \"\"\"\n",
        "}\n",
        "\n",
        "# Function to generate the response based on the category\n",
        "def generate_response(issue_description, issue_details, user_category=None):\n",
        "    # Automate category matching based on keywords in the issue description\n",
        "    if user_category and user_category in response_templates:\n",
        "        template = response_templates[user_category]\n",
        "    elif 'connectivity' in issue_description.lower() or 'internet' in issue_description.lower():\n",
        "        user_category = 'Connectivity Issues'\n",
        "        template = response_templates[user_category]\n",
        "    elif 'billing' in issue_description.lower():\n",
        "        user_category = 'Billing Issues'\n",
        "        template = response_templates[user_category]\n",
        "    else:\n",
        "        # Default template if no category is found\n",
        "        user_category = 'General Inquiry'\n",
        "        template = \"Thank you for contacting us. We will address your issue shortly.\"\n",
        "\n",
        "    # Format the response based on the selected template\n",
        "    if user_category == 'Connectivity Issues':\n",
        "        response = template.format(\n",
        "            customer_name=issue_details.get(\"customer_name\", \"Customer\"),\n",
        "            issue_description=issue_description,\n",
        "            product_name=issue_details.get(\"product_name\", \"Product\"),\n",
        "            company_name=\"Your Company\"\n",
        "        )\n",
        "    elif user_category == 'Billing Issues':\n",
        "        response = template.format(\n",
        "            customer_name=issue_details.get(\"customer_name\", \"Customer\"),\n",
        "            product_name=issue_details.get(\"product_name\", \"Product\"),\n",
        "            billing_issue=\"incorrect charge\",\n",
        "            processing_time=\"5\",  # Can be dynamic\n",
        "            company_name=\"Your Company\"\n",
        "        )\n",
        "    else:\n",
        "        response = template  # For general inquiries\n",
        "\n",
        "    return response\n",
        "\n",
        "# Example usage\n",
        "if __name__ == \"__main__\":\n",
        "    issue_description = \"I am facing slow internet speeds, and my connection drops frequently.\"\n",
        "    issue_details = {\n",
        "        \"customer_name\": \"Radhika Kachare\",\n",
        "        \"product_name\": \"Cisco Router\"\n",
        "    }\n",
        "    user_category = None  # Automatically detect based on the issue description\n",
        "    response = generate_response(issue_description, issue_details, user_category)\n",
        "\n",
        "    # Print the generated response\n",
        "    print(response)\n"
      ],
      "metadata": {
        "id": "SDR1onPprNw_",
        "colab": {
          "base_uri": "https://localhost:8080/"
        },
        "outputId": "c548e7be-3736-4d4e-8b47-ae82f06e80b4"
      },
      "execution_count": 1,
      "outputs": [
        {
          "output_type": "stream",
          "name": "stdout",
          "text": [
            "\n",
            "    Subject: Internet/Connectivity Issue Cisco Router ISR4331\n",
            "\n",
            "    Dear Radhika Kachare,\n",
            "\n",
            "    Thank you for contacting us regarding the connectivity issue you're experiencing with Cisco Router (I am facing slow internet speeds, and my connection drops frequently.).\n",
            "\n",
            "    To resolve this, please try the following troubleshooting steps:\n",
            "    1. Restart your modem/router.\n",
            "    2. Check the cable connections and ensure everything is secure.\n",
            "    3. Confirm that your service plan is active and there are no outstanding dues.\n",
            "\n",
            "    If the issue persists after these steps, please let us know, and we will escalate this to our technical team for further investigation.\n",
            "\n",
            "    Best regards,\n",
            "    Your Company Support Team\n",
            "    \n"
          ]
        }
      ]
    },
    {
      "cell_type": "markdown",
      "source": [],
      "metadata": {
        "id": "oQ39Fz7aVEgz"
      }
    }
  ]
}