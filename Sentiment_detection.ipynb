{
  "nbformat": 4,
  "nbformat_minor": 0,
  "metadata": {
    "colab": {
      "provenance": [],
      "toc_visible": true,
      "mount_file_id": "1dt9N_fI7JmE4MpOFDmxqJTMOKJm7aMr5",
      "authorship_tag": "ABX9TyM8862pMyYfsG/1irFvBL2x",
      "include_colab_link": true
    },
    "kernelspec": {
      "name": "python3",
      "display_name": "Python 3"
    },
    "language_info": {
      "name": "python"
    }
  },
  "cells": [
    {
      "cell_type": "markdown",
      "metadata": {
        "id": "view-in-github",
        "colab_type": "text"
      },
      "source": [
        "<a href=\"https://colab.research.google.com/github/radhika004/CustomerSupportTickets/blob/main/Sentiment_detection.ipynb\" target=\"_parent\"><img src=\"https://colab.research.google.com/assets/colab-badge.svg\" alt=\"Open In Colab\"/></a>"
      ]
    },
    {
      "cell_type": "markdown",
      "source": [
        "Sentiment detection and data analysis\n"
      ],
      "metadata": {
        "id": "MQVUqtWVvIMz"
      }
    },
    {
      "cell_type": "code",
      "execution_count": null,
      "metadata": {
        "colab": {
          "base_uri": "https://localhost:8080/",
          "height": 521
        },
        "id": "6xeWOfd3pOz-",
        "outputId": "9a3c913b-c324-4821-e303-f96b9d5a44ba"
      },
      "outputs": [
        {
          "output_type": "display_data",
          "data": {
            "text/plain": [
              "    id                                            subject  \\\n",
              "0   36  Anfrage zu den Spezifikationen und Anpassungso...   \n",
              "1   39               Déconnexions fréquentes et plantages   \n",
              "2  243                        Problema de sonido Dell XPS   \n",
              "3  381  Assistance requise pour la configuration du ta...   \n",
              "4  663  Urgente: Assistência Imediata Necessária para ...   \n",
              "\n",
              "                                                body  \\\n",
              "0  Sehr geehrtes Support-Team des Tech Online Sto...   \n",
              "1  Le client signale des déconnexions fréquentes ...   \n",
              "2  Problema con el sonido, manejando como devoluc...   \n",
              "3  Cher support client,\\n\\nNotre client, <name>, ...   \n",
              "4  Caro Suporte ao Cliente da Firma de Consultori...   \n",
              "\n",
              "                                              answer      type  \\\n",
              "0  Sehr geehrter <name>,\\n\\nvielen Dank für Ihr I...   Request   \n",
              "1  Nous allons enquêter sur le problème avec Zoom...  Incident   \n",
              "2  Gracias por su correo electrónico. Procesaremo...   Problem   \n",
              "3  Cher <name>,\\n\\nMerci de nous avoir contactés....   Request   \n",
              "4  Caro Cliente,\\n\\nRecebemos sua solicitação urg...  Incident   \n",
              "\n",
              "                   queue priority language                 business_type  \\\n",
              "0       Customer Service   medium       de             Tech Online Store   \n",
              "1        Product Support     high       fr  Software Development Company   \n",
              "2  Returns and Exchanges   medium       es             Tech Online Store   \n",
              "3        Product Support   medium       fr  Software Development Company   \n",
              "4        Human Resources   medium       pt            IT Consulting Firm   \n",
              "\n",
              "                   tag_1            tag_2               tag_3  \\\n",
              "0        Product Support    Sales Inquiry  Technical Guidance   \n",
              "1      Technical Support     Software Bug  Service Disruption   \n",
              "2  Returns and Exchanges  Product Support    Customer Service   \n",
              "3      Technical Support  Product Support     General Inquiry   \n",
              "4           Urgent Issue    Payroll Issue   Technical Support   \n",
              "\n",
              "                tag_4               tag_5               tag_6 tag_7 tag_8  \\\n",
              "0     General Inquiry                 NaN                 NaN   NaN   NaN   \n",
              "1        System Crash  Problem Resolution  Performance Tuning   NaN   NaN   \n",
              "2      Refund Request                 NaN                 NaN   NaN   NaN   \n",
              "3  Problem Resolution    Training Request                 NaN   NaN   NaN   \n",
              "4  Service Disruption  Problem Resolution  Account Assistance   NaN   NaN   \n",
              "\n",
              "   tag_9  \n",
              "0    NaN  \n",
              "1    NaN  \n",
              "2    NaN  \n",
              "3    NaN  \n",
              "4    NaN  "
            ],
            "text/html": [
              "\n",
              "  <div id=\"df-769dcb8b-c223-41d4-8aeb-cdf2905c36a2\" class=\"colab-df-container\">\n",
              "    <div>\n",
              "<style scoped>\n",
              "    .dataframe tbody tr th:only-of-type {\n",
              "        vertical-align: middle;\n",
              "    }\n",
              "\n",
              "    .dataframe tbody tr th {\n",
              "        vertical-align: top;\n",
              "    }\n",
              "\n",
              "    .dataframe thead th {\n",
              "        text-align: right;\n",
              "    }\n",
              "</style>\n",
              "<table border=\"1\" class=\"dataframe\">\n",
              "  <thead>\n",
              "    <tr style=\"text-align: right;\">\n",
              "      <th></th>\n",
              "      <th>id</th>\n",
              "      <th>subject</th>\n",
              "      <th>body</th>\n",
              "      <th>answer</th>\n",
              "      <th>type</th>\n",
              "      <th>queue</th>\n",
              "      <th>priority</th>\n",
              "      <th>language</th>\n",
              "      <th>business_type</th>\n",
              "      <th>tag_1</th>\n",
              "      <th>tag_2</th>\n",
              "      <th>tag_3</th>\n",
              "      <th>tag_4</th>\n",
              "      <th>tag_5</th>\n",
              "      <th>tag_6</th>\n",
              "      <th>tag_7</th>\n",
              "      <th>tag_8</th>\n",
              "      <th>tag_9</th>\n",
              "    </tr>\n",
              "  </thead>\n",
              "  <tbody>\n",
              "    <tr>\n",
              "      <th>0</th>\n",
              "      <td>36</td>\n",
              "      <td>Anfrage zu den Spezifikationen und Anpassungso...</td>\n",
              "      <td>Sehr geehrtes Support-Team des Tech Online Sto...</td>\n",
              "      <td>Sehr geehrter &lt;name&gt;,\\n\\nvielen Dank für Ihr I...</td>\n",
              "      <td>Request</td>\n",
              "      <td>Customer Service</td>\n",
              "      <td>medium</td>\n",
              "      <td>de</td>\n",
              "      <td>Tech Online Store</td>\n",
              "      <td>Product Support</td>\n",
              "      <td>Sales Inquiry</td>\n",
              "      <td>Technical Guidance</td>\n",
              "      <td>General Inquiry</td>\n",
              "      <td>NaN</td>\n",
              "      <td>NaN</td>\n",
              "      <td>NaN</td>\n",
              "      <td>NaN</td>\n",
              "      <td>NaN</td>\n",
              "    </tr>\n",
              "    <tr>\n",
              "      <th>1</th>\n",
              "      <td>39</td>\n",
              "      <td>Déconnexions fréquentes et plantages</td>\n",
              "      <td>Le client signale des déconnexions fréquentes ...</td>\n",
              "      <td>Nous allons enquêter sur le problème avec Zoom...</td>\n",
              "      <td>Incident</td>\n",
              "      <td>Product Support</td>\n",
              "      <td>high</td>\n",
              "      <td>fr</td>\n",
              "      <td>Software Development Company</td>\n",
              "      <td>Technical Support</td>\n",
              "      <td>Software Bug</td>\n",
              "      <td>Service Disruption</td>\n",
              "      <td>System Crash</td>\n",
              "      <td>Problem Resolution</td>\n",
              "      <td>Performance Tuning</td>\n",
              "      <td>NaN</td>\n",
              "      <td>NaN</td>\n",
              "      <td>NaN</td>\n",
              "    </tr>\n",
              "    <tr>\n",
              "      <th>2</th>\n",
              "      <td>243</td>\n",
              "      <td>Problema de sonido Dell XPS</td>\n",
              "      <td>Problema con el sonido, manejando como devoluc...</td>\n",
              "      <td>Gracias por su correo electrónico. Procesaremo...</td>\n",
              "      <td>Problem</td>\n",
              "      <td>Returns and Exchanges</td>\n",
              "      <td>medium</td>\n",
              "      <td>es</td>\n",
              "      <td>Tech Online Store</td>\n",
              "      <td>Returns and Exchanges</td>\n",
              "      <td>Product Support</td>\n",
              "      <td>Customer Service</td>\n",
              "      <td>Refund Request</td>\n",
              "      <td>NaN</td>\n",
              "      <td>NaN</td>\n",
              "      <td>NaN</td>\n",
              "      <td>NaN</td>\n",
              "      <td>NaN</td>\n",
              "    </tr>\n",
              "    <tr>\n",
              "      <th>3</th>\n",
              "      <td>381</td>\n",
              "      <td>Assistance requise pour la configuration du ta...</td>\n",
              "      <td>Cher support client,\\n\\nNotre client, &lt;name&gt;, ...</td>\n",
              "      <td>Cher &lt;name&gt;,\\n\\nMerci de nous avoir contactés....</td>\n",
              "      <td>Request</td>\n",
              "      <td>Product Support</td>\n",
              "      <td>medium</td>\n",
              "      <td>fr</td>\n",
              "      <td>Software Development Company</td>\n",
              "      <td>Technical Support</td>\n",
              "      <td>Product Support</td>\n",
              "      <td>General Inquiry</td>\n",
              "      <td>Problem Resolution</td>\n",
              "      <td>Training Request</td>\n",
              "      <td>NaN</td>\n",
              "      <td>NaN</td>\n",
              "      <td>NaN</td>\n",
              "      <td>NaN</td>\n",
              "    </tr>\n",
              "    <tr>\n",
              "      <th>4</th>\n",
              "      <td>663</td>\n",
              "      <td>Urgente: Assistência Imediata Necessária para ...</td>\n",
              "      <td>Caro Suporte ao Cliente da Firma de Consultori...</td>\n",
              "      <td>Caro Cliente,\\n\\nRecebemos sua solicitação urg...</td>\n",
              "      <td>Incident</td>\n",
              "      <td>Human Resources</td>\n",
              "      <td>medium</td>\n",
              "      <td>pt</td>\n",
              "      <td>IT Consulting Firm</td>\n",
              "      <td>Urgent Issue</td>\n",
              "      <td>Payroll Issue</td>\n",
              "      <td>Technical Support</td>\n",
              "      <td>Service Disruption</td>\n",
              "      <td>Problem Resolution</td>\n",
              "      <td>Account Assistance</td>\n",
              "      <td>NaN</td>\n",
              "      <td>NaN</td>\n",
              "      <td>NaN</td>\n",
              "    </tr>\n",
              "  </tbody>\n",
              "</table>\n",
              "</div>\n",
              "    <div class=\"colab-df-buttons\">\n",
              "\n",
              "  <div class=\"colab-df-container\">\n",
              "    <button class=\"colab-df-convert\" onclick=\"convertToInteractive('df-769dcb8b-c223-41d4-8aeb-cdf2905c36a2')\"\n",
              "            title=\"Convert this dataframe to an interactive table.\"\n",
              "            style=\"display:none;\">\n",
              "\n",
              "  <svg xmlns=\"http://www.w3.org/2000/svg\" height=\"24px\" viewBox=\"0 -960 960 960\">\n",
              "    <path d=\"M120-120v-720h720v720H120Zm60-500h600v-160H180v160Zm220 220h160v-160H400v160Zm0 220h160v-160H400v160ZM180-400h160v-160H180v160Zm440 0h160v-160H620v160ZM180-180h160v-160H180v160Zm440 0h160v-160H620v160Z\"/>\n",
              "  </svg>\n",
              "    </button>\n",
              "\n",
              "  <style>\n",
              "    .colab-df-container {\n",
              "      display:flex;\n",
              "      gap: 12px;\n",
              "    }\n",
              "\n",
              "    .colab-df-convert {\n",
              "      background-color: #E8F0FE;\n",
              "      border: none;\n",
              "      border-radius: 50%;\n",
              "      cursor: pointer;\n",
              "      display: none;\n",
              "      fill: #1967D2;\n",
              "      height: 32px;\n",
              "      padding: 0 0 0 0;\n",
              "      width: 32px;\n",
              "    }\n",
              "\n",
              "    .colab-df-convert:hover {\n",
              "      background-color: #E2EBFA;\n",
              "      box-shadow: 0px 1px 2px rgba(60, 64, 67, 0.3), 0px 1px 3px 1px rgba(60, 64, 67, 0.15);\n",
              "      fill: #174EA6;\n",
              "    }\n",
              "\n",
              "    .colab-df-buttons div {\n",
              "      margin-bottom: 4px;\n",
              "    }\n",
              "\n",
              "    [theme=dark] .colab-df-convert {\n",
              "      background-color: #3B4455;\n",
              "      fill: #D2E3FC;\n",
              "    }\n",
              "\n",
              "    [theme=dark] .colab-df-convert:hover {\n",
              "      background-color: #434B5C;\n",
              "      box-shadow: 0px 1px 3px 1px rgba(0, 0, 0, 0.15);\n",
              "      filter: drop-shadow(0px 1px 2px rgba(0, 0, 0, 0.3));\n",
              "      fill: #FFFFFF;\n",
              "    }\n",
              "  </style>\n",
              "\n",
              "    <script>\n",
              "      const buttonEl =\n",
              "        document.querySelector('#df-769dcb8b-c223-41d4-8aeb-cdf2905c36a2 button.colab-df-convert');\n",
              "      buttonEl.style.display =\n",
              "        google.colab.kernel.accessAllowed ? 'block' : 'none';\n",
              "\n",
              "      async function convertToInteractive(key) {\n",
              "        const element = document.querySelector('#df-769dcb8b-c223-41d4-8aeb-cdf2905c36a2');\n",
              "        const dataTable =\n",
              "          await google.colab.kernel.invokeFunction('convertToInteractive',\n",
              "                                                    [key], {});\n",
              "        if (!dataTable) return;\n",
              "\n",
              "        const docLinkHtml = 'Like what you see? Visit the ' +\n",
              "          '<a target=\"_blank\" href=https://colab.research.google.com/notebooks/data_table.ipynb>data table notebook</a>'\n",
              "          + ' to learn more about interactive tables.';\n",
              "        element.innerHTML = '';\n",
              "        dataTable['output_type'] = 'display_data';\n",
              "        await google.colab.output.renderOutput(dataTable, element);\n",
              "        const docLink = document.createElement('div');\n",
              "        docLink.innerHTML = docLinkHtml;\n",
              "        element.appendChild(docLink);\n",
              "      }\n",
              "    </script>\n",
              "  </div>\n",
              "\n",
              "\n",
              "<div id=\"df-5cb6fecf-ef55-417e-8245-83716ff9ed34\">\n",
              "  <button class=\"colab-df-quickchart\" onclick=\"quickchart('df-5cb6fecf-ef55-417e-8245-83716ff9ed34')\"\n",
              "            title=\"Suggest charts\"\n",
              "            style=\"display:none;\">\n",
              "\n",
              "<svg xmlns=\"http://www.w3.org/2000/svg\" height=\"24px\"viewBox=\"0 0 24 24\"\n",
              "     width=\"24px\">\n",
              "    <g>\n",
              "        <path d=\"M19 3H5c-1.1 0-2 .9-2 2v14c0 1.1.9 2 2 2h14c1.1 0 2-.9 2-2V5c0-1.1-.9-2-2-2zM9 17H7v-7h2v7zm4 0h-2V7h2v10zm4 0h-2v-4h2v4z\"/>\n",
              "    </g>\n",
              "</svg>\n",
              "  </button>\n",
              "\n",
              "<style>\n",
              "  .colab-df-quickchart {\n",
              "      --bg-color: #E8F0FE;\n",
              "      --fill-color: #1967D2;\n",
              "      --hover-bg-color: #E2EBFA;\n",
              "      --hover-fill-color: #174EA6;\n",
              "      --disabled-fill-color: #AAA;\n",
              "      --disabled-bg-color: #DDD;\n",
              "  }\n",
              "\n",
              "  [theme=dark] .colab-df-quickchart {\n",
              "      --bg-color: #3B4455;\n",
              "      --fill-color: #D2E3FC;\n",
              "      --hover-bg-color: #434B5C;\n",
              "      --hover-fill-color: #FFFFFF;\n",
              "      --disabled-bg-color: #3B4455;\n",
              "      --disabled-fill-color: #666;\n",
              "  }\n",
              "\n",
              "  .colab-df-quickchart {\n",
              "    background-color: var(--bg-color);\n",
              "    border: none;\n",
              "    border-radius: 50%;\n",
              "    cursor: pointer;\n",
              "    display: none;\n",
              "    fill: var(--fill-color);\n",
              "    height: 32px;\n",
              "    padding: 0;\n",
              "    width: 32px;\n",
              "  }\n",
              "\n",
              "  .colab-df-quickchart:hover {\n",
              "    background-color: var(--hover-bg-color);\n",
              "    box-shadow: 0 1px 2px rgba(60, 64, 67, 0.3), 0 1px 3px 1px rgba(60, 64, 67, 0.15);\n",
              "    fill: var(--button-hover-fill-color);\n",
              "  }\n",
              "\n",
              "  .colab-df-quickchart-complete:disabled,\n",
              "  .colab-df-quickchart-complete:disabled:hover {\n",
              "    background-color: var(--disabled-bg-color);\n",
              "    fill: var(--disabled-fill-color);\n",
              "    box-shadow: none;\n",
              "  }\n",
              "\n",
              "  .colab-df-spinner {\n",
              "    border: 2px solid var(--fill-color);\n",
              "    border-color: transparent;\n",
              "    border-bottom-color: var(--fill-color);\n",
              "    animation:\n",
              "      spin 1s steps(1) infinite;\n",
              "  }\n",
              "\n",
              "  @keyframes spin {\n",
              "    0% {\n",
              "      border-color: transparent;\n",
              "      border-bottom-color: var(--fill-color);\n",
              "      border-left-color: var(--fill-color);\n",
              "    }\n",
              "    20% {\n",
              "      border-color: transparent;\n",
              "      border-left-color: var(--fill-color);\n",
              "      border-top-color: var(--fill-color);\n",
              "    }\n",
              "    30% {\n",
              "      border-color: transparent;\n",
              "      border-left-color: var(--fill-color);\n",
              "      border-top-color: var(--fill-color);\n",
              "      border-right-color: var(--fill-color);\n",
              "    }\n",
              "    40% {\n",
              "      border-color: transparent;\n",
              "      border-right-color: var(--fill-color);\n",
              "      border-top-color: var(--fill-color);\n",
              "    }\n",
              "    60% {\n",
              "      border-color: transparent;\n",
              "      border-right-color: var(--fill-color);\n",
              "    }\n",
              "    80% {\n",
              "      border-color: transparent;\n",
              "      border-right-color: var(--fill-color);\n",
              "      border-bottom-color: var(--fill-color);\n",
              "    }\n",
              "    90% {\n",
              "      border-color: transparent;\n",
              "      border-bottom-color: var(--fill-color);\n",
              "    }\n",
              "  }\n",
              "</style>\n",
              "\n",
              "  <script>\n",
              "    async function quickchart(key) {\n",
              "      const quickchartButtonEl =\n",
              "        document.querySelector('#' + key + ' button');\n",
              "      quickchartButtonEl.disabled = true;  // To prevent multiple clicks.\n",
              "      quickchartButtonEl.classList.add('colab-df-spinner');\n",
              "      try {\n",
              "        const charts = await google.colab.kernel.invokeFunction(\n",
              "            'suggestCharts', [key], {});\n",
              "      } catch (error) {\n",
              "        console.error('Error during call to suggestCharts:', error);\n",
              "      }\n",
              "      quickchartButtonEl.classList.remove('colab-df-spinner');\n",
              "      quickchartButtonEl.classList.add('colab-df-quickchart-complete');\n",
              "    }\n",
              "    (() => {\n",
              "      let quickchartButtonEl =\n",
              "        document.querySelector('#df-5cb6fecf-ef55-417e-8245-83716ff9ed34 button');\n",
              "      quickchartButtonEl.style.display =\n",
              "        google.colab.kernel.accessAllowed ? 'block' : 'none';\n",
              "    })();\n",
              "  </script>\n",
              "</div>\n",
              "\n",
              "    </div>\n",
              "  </div>\n"
            ],
            "application/vnd.google.colaboratory.intrinsic+json": {
              "type": "dataframe",
              "repr_error": "Out of range float values are not JSON compliant: nan"
            }
          },
          "metadata": {}
        }
      ],
      "source": [
        "\n",
        "\n",
        "import pandas as pd\n",
        "\n",
        "\n",
        "try:\n",
        "    df = pd.read_csv('helpdesk_customer_tickets.csv')\n",
        "    display(df.head())\n",
        "except FileNotFoundError:\n",
        "    print(\"Error: helpdesk_customer_tickets.csv not found. Please upload the file or provide the correct path.\")\n"
      ]
    },
    {
      "cell_type": "code",
      "source": [],
      "metadata": {
        "id": "5xwAsIikxw3M"
      },
      "execution_count": null,
      "outputs": []
    },
    {
      "cell_type": "markdown",
      "source": [],
      "metadata": {
        "id": "9TVX4SbOrQx2"
      }
    },
    {
      "cell_type": "code",
      "source": [
        "# prompt: top 3 occuring subject\n",
        "\n",
        "import pandas as pd\n",
        "\n",
        "# Assuming the file is in the current directory. If not, provide the correct path.\n",
        "try:\n",
        "    df = pd.read_csv('helpdesk_customer_tickets.csv')\n",
        "    #display(df.head())\n",
        "\n",
        "    # Calculate the top 3 occurring subjects\n",
        "    top_3_subjects = df['subject'].value_counts().nlargest(3)\n",
        "    print(\"Top 3 occurring subjects:\\n\", top_3_subjects)\n",
        "\n",
        "except FileNotFoundError:\n",
        "    print(\"Error: helpdesk_customer_tickets.csv not found. Please upload the file or provide the correct path.\")\n",
        "except KeyError:\n",
        "    print(\"Error: 'Subject' column not found in the CSV file.\")"
      ],
      "metadata": {
        "colab": {
          "base_uri": "https://localhost:8080/"
        },
        "id": "CKqS2l_TrODc",
        "outputId": "c5f0e47c-295f-4def-ec94-c3d85a60d5db"
      },
      "execution_count": null,
      "outputs": [
        {
          "output_type": "stream",
          "name": "stdout",
          "text": [
            "Top 3 occurring subjects:\n",
            " subject\n",
            "Anfrage zu den Spezifikationen und Anpassungsoptionen des MacBook Air M1    1\n",
            "Defektes MacBook Air M1                                                     1\n",
            "Problèmes avec le MacBook Air M1 récemment acheté                           1\n",
            "Name: count, dtype: int64\n"
          ]
        }
      ]
    },
    {
      "cell_type": "code",
      "source": [
        "# prompt: unique values in queue\n",
        "\n",
        "import pandas as pd\n",
        "\n",
        "# Assuming the file is in the current directory. If not, provide the correct path.\n",
        "try:\n",
        "    df = pd.read_csv('helpdesk_customer_tickets.csv')\n",
        "    #display(df.head())\n",
        "\n",
        "    # Find unique values in the 'queue' column\n",
        "    unique_queues = df['queue'].unique()\n",
        "    print(\"Unique values in the 'queue' column:\\n\", unique_queues)\n",
        "\n",
        "except FileNotFoundError:\n",
        "    print(\"Error: helpdesk_customer_tickets.csv not found. Please upload the file or provide the correct path.\")\n",
        "except KeyError:\n",
        "    print(\"Error: 'queue' column not found in the CSV file.\")"
      ],
      "metadata": {
        "colab": {
          "base_uri": "https://localhost:8080/"
        },
        "id": "JZUq5lPNtYYH",
        "outputId": "8095aa63-7551-40bf-efdb-1287163b1ef1"
      },
      "execution_count": null,
      "outputs": [
        {
          "output_type": "stream",
          "name": "stdout",
          "text": [
            "Unique values in the 'queue' column:\n",
            " ['Customer Service' 'Product Support' 'Returns and Exchanges'\n",
            " 'Human Resources' 'Billing and Payments' 'Technical Support' 'IT Support'\n",
            " 'Sales and Pre-Sales' 'General Inquiry' 'Service Outages and Maintenance']\n"
          ]
        }
      ]
    },
    {
      "cell_type": "code",
      "source": [
        "df[\"business_type\"].unique()"
      ],
      "metadata": {
        "colab": {
          "base_uri": "https://localhost:8080/"
        },
        "id": "7EivpzLht-4u",
        "outputId": "2ac184d4-2f73-44c4-932c-f9e5b7dd348c"
      },
      "execution_count": null,
      "outputs": [
        {
          "output_type": "execute_result",
          "data": {
            "text/plain": [
              "array(['Tech Online Store', 'Software Development Company',\n",
              "       'IT Consulting Firm', 'IT Services'], dtype=object)"
            ]
          },
          "metadata": {},
          "execution_count": 7
        }
      ]
    },
    {
      "cell_type": "code",
      "source": [
        "df[\"type\"].value_counts()"
      ],
      "metadata": {
        "colab": {
          "base_uri": "https://localhost:8080/",
          "height": 241
        },
        "id": "s5XnvG4tuZmK",
        "outputId": "649b5d64-7739-4b6b-f17b-a17f17e7eb88"
      },
      "execution_count": null,
      "outputs": [
        {
          "output_type": "execute_result",
          "data": {
            "text/plain": [
              "type\n",
              "Incident    253\n",
              "Request     148\n",
              "Problem     145\n",
              "Change       54\n",
              "Name: count, dtype: int64"
            ],
            "text/html": [
              "<div>\n",
              "<style scoped>\n",
              "    .dataframe tbody tr th:only-of-type {\n",
              "        vertical-align: middle;\n",
              "    }\n",
              "\n",
              "    .dataframe tbody tr th {\n",
              "        vertical-align: top;\n",
              "    }\n",
              "\n",
              "    .dataframe thead th {\n",
              "        text-align: right;\n",
              "    }\n",
              "</style>\n",
              "<table border=\"1\" class=\"dataframe\">\n",
              "  <thead>\n",
              "    <tr style=\"text-align: right;\">\n",
              "      <th></th>\n",
              "      <th>count</th>\n",
              "    </tr>\n",
              "    <tr>\n",
              "      <th>type</th>\n",
              "      <th></th>\n",
              "    </tr>\n",
              "  </thead>\n",
              "  <tbody>\n",
              "    <tr>\n",
              "      <th>Incident</th>\n",
              "      <td>253</td>\n",
              "    </tr>\n",
              "    <tr>\n",
              "      <th>Request</th>\n",
              "      <td>148</td>\n",
              "    </tr>\n",
              "    <tr>\n",
              "      <th>Problem</th>\n",
              "      <td>145</td>\n",
              "    </tr>\n",
              "    <tr>\n",
              "      <th>Change</th>\n",
              "      <td>54</td>\n",
              "    </tr>\n",
              "  </tbody>\n",
              "</table>\n",
              "</div><br><label><b>dtype:</b> int64</label>"
            ]
          },
          "metadata": {},
          "execution_count": 8
        }
      ]
    },
    {
      "cell_type": "code",
      "source": [
        "# prompt: priority bar graph\n",
        "\n",
        "import pandas as pd\n",
        "import matplotlib.pyplot as plt\n",
        "\n",
        "# Assuming the file is in the current directory. If not, provide the correct path.\n",
        "try:\n",
        "    df = pd.read_csv('helpdesk_customer_tickets.csv')\n",
        "    #display(df.head())\n",
        "\n",
        "    # Calculate the priority counts\n",
        "    priority_counts = df['priority'].value_counts()\n",
        "\n",
        "    # Create the bar graph\n",
        "    plt.figure(figsize=(8, 6))  # Adjust figure size as needed\n",
        "    priority_counts.plot(kind='bar', color=['skyblue', 'lightcoral', 'lightgreen', 'lightblue']) # Customize colors as needed\n",
        "    plt.title('Priority Levels of Customer Tickets')\n",
        "    plt.xlabel('Priority')\n",
        "    plt.ylabel('Number of Tickets')\n",
        "    plt.xticks(rotation=0)  # Rotate x-axis labels for better readability\n",
        "    plt.tight_layout() # Adjust layout to prevent labels from overlapping\n",
        "    plt.show()\n",
        "\n",
        "except FileNotFoundError:\n",
        "    print(\"Error: helpdesk_customer_tickets.csv not found. Please upload the file or provide the correct path.\")\n",
        "except KeyError:\n",
        "    print(\"Error: 'priority' column not found in the CSV file.\")"
      ],
      "metadata": {
        "colab": {
          "base_uri": "https://localhost:8080/",
          "height": 607
        },
        "id": "jNxFZcyNugY-",
        "outputId": "86c56a35-e252-4ea4-fc76-82148011d27f"
      },
      "execution_count": null,
      "outputs": [
        {
          "output_type": "display_data",
          "data": {
            "text/plain": [
              "<Figure size 800x600 with 1 Axes>"
            ],
            "image/png": "[encoded data removed]"
          },
          "metadata": {}
        }
      ]
    },
    {
      "cell_type": "code",
      "source": [
        "df[\"priority\"].value_counts()"
      ],
      "metadata": {
        "colab": {
          "base_uri": "https://localhost:8080/",
          "height": 209
        },
        "id": "ddsRKI9LxpNe",
        "outputId": "ebd844b4-27b7-4d83-d9ca-c3340f69f32b"
      },
      "execution_count": null,
      "outputs": [
        {
          "output_type": "execute_result",
          "data": {
            "text/plain": [
              "priority\n",
              "high      266\n",
              "medium    205\n",
              "low       129\n",
              "Name: count, dtype: int64"
            ],
            "text/html": [
              "<div>\n",
              "<style scoped>\n",
              "    .dataframe tbody tr th:only-of-type {\n",
              "        vertical-align: middle;\n",
              "    }\n",
              "\n",
              "    .dataframe tbody tr th {\n",
              "        vertical-align: top;\n",
              "    }\n",
              "\n",
              "    .dataframe thead th {\n",
              "        text-align: right;\n",
              "    }\n",
              "</style>\n",
              "<table border=\"1\" class=\"dataframe\">\n",
              "  <thead>\n",
              "    <tr style=\"text-align: right;\">\n",
              "      <th></th>\n",
              "      <th>count</th>\n",
              "    </tr>\n",
              "    <tr>\n",
              "      <th>priority</th>\n",
              "      <th></th>\n",
              "    </tr>\n",
              "  </thead>\n",
              "  <tbody>\n",
              "    <tr>\n",
              "      <th>high</th>\n",
              "      <td>266</td>\n",
              "    </tr>\n",
              "    <tr>\n",
              "      <th>medium</th>\n",
              "      <td>205</td>\n",
              "    </tr>\n",
              "    <tr>\n",
              "      <th>low</th>\n",
              "      <td>129</td>\n",
              "    </tr>\n",
              "  </tbody>\n",
              "</table>\n",
              "</div><br><label><b>dtype:</b> int64</label>"
            ]
          },
          "metadata": {},
          "execution_count": 17
        }
      ]
    },
    {
      "cell_type": "code",
      "source": [
        "# prompt: type and no. of tickets bar graph\n",
        "\n",
        "# Assuming the file is in the current directory. If not, provide the correct path.\n",
        "try:\n",
        "    df = pd.read_csv('helpdesk_customer_tickets.csv')\n",
        "    #display(df.head())\n",
        "\n",
        "    # Calculate the type counts\n",
        "    type_counts = df['type'].value_counts()\n",
        "\n",
        "    # Create the bar graph\n",
        "    plt.figure(figsize=(8, 6))  # Adjust figure size as needed\n",
        "    type_counts.plot(kind='bar', color=['skyblue', 'lightcoral', 'lightgreen', 'lightblue']) # Customize colors as needed\n",
        "    plt.title('Type of Customer Tickets')\n",
        "    plt.xlabel('Type')\n",
        "    plt.ylabel('Number of Tickets')\n",
        "    plt.xticks(rotation=0)  # Rotate x-axis labels for better readability\n",
        "    plt.tight_layout() # Adjust layout to prevent labels from overlapping\n",
        "    plt.show()\n",
        "\n",
        "except FileNotFoundError:\n",
        "    print(\"Error: helpdesk_customer_tickets.csv not found. Please upload the file or provide the correct path.\")\n",
        "except KeyError:\n",
        "    print(\"Error: 'type' column not found in the CSV file.\")"
      ],
      "metadata": {
        "colab": {
          "base_uri": "https://localhost:8080/",
          "height": 607
        },
        "id": "mNDgOhxju4pX",
        "outputId": "15c17258-9013-49b6-d991-c4be250b9c38"
      },
      "execution_count": null,
      "outputs": [
        {
          "output_type": "display_data",
          "data": {
            "text/plain": [
              "<Figure size 800x600 with 1 Axes>"
            ],
            "image/png": "[encoded data removed]"
          },
          "metadata": {}
        }
      ]
    },
    {
      "cell_type": "code",
      "source": [
        "df[\"type\"].value_counts()"
      ],
      "metadata": {
        "colab": {
          "base_uri": "https://localhost:8080/",
          "height": 241
        },
        "id": "evlI1HRBxjbX",
        "outputId": "12c4303d-a1dc-4c1f-ea4d-ce1998c10f4e"
      },
      "execution_count": null,
      "outputs": [
        {
          "output_type": "execute_result",
          "data": {
            "text/plain": [
              "type\n",
              "Incident    253\n",
              "Request     148\n",
              "Problem     145\n",
              "Change       54\n",
              "Name: count, dtype: int64"
            ],
            "text/html": [
              "<div>\n",
              "<style scoped>\n",
              "    .dataframe tbody tr th:only-of-type {\n",
              "        vertical-align: middle;\n",
              "    }\n",
              "\n",
              "    .dataframe tbody tr th {\n",
              "        vertical-align: top;\n",
              "    }\n",
              "\n",
              "    .dataframe thead th {\n",
              "        text-align: right;\n",
              "    }\n",
              "</style>\n",
              "<table border=\"1\" class=\"dataframe\">\n",
              "  <thead>\n",
              "    <tr style=\"text-align: right;\">\n",
              "      <th></th>\n",
              "      <th>count</th>\n",
              "    </tr>\n",
              "    <tr>\n",
              "      <th>type</th>\n",
              "      <th></th>\n",
              "    </tr>\n",
              "  </thead>\n",
              "  <tbody>\n",
              "    <tr>\n",
              "      <th>Incident</th>\n",
              "      <td>253</td>\n",
              "    </tr>\n",
              "    <tr>\n",
              "      <th>Request</th>\n",
              "      <td>148</td>\n",
              "    </tr>\n",
              "    <tr>\n",
              "      <th>Problem</th>\n",
              "      <td>145</td>\n",
              "    </tr>\n",
              "    <tr>\n",
              "      <th>Change</th>\n",
              "      <td>54</td>\n",
              "    </tr>\n",
              "  </tbody>\n",
              "</table>\n",
              "</div><br><label><b>dtype:</b> int64</label>"
            ]
          },
          "metadata": {},
          "execution_count": 16
        }
      ]
    },
    {
      "cell_type": "code",
      "source": [
        "# prompt: queue and no. of tickets bar graph\n",
        "\n",
        "import pandas as pd\n",
        "import matplotlib.pyplot as plt\n",
        "\n",
        "# Assuming the file is in the current directory. If not, provide the correct path.\n",
        "try:\n",
        "    df = pd.read_csv('helpdesk_customer_tickets.csv')\n",
        "    #display(df.head())\n",
        "\n",
        "    # Calculate the queue counts\n",
        "    queue_counts = df['queue'].value_counts()\n",
        "\n",
        "    # Create the bar graph\n",
        "    plt.figure(figsize=(10, 6))  # Adjust figure size as needed\n",
        "    queue_counts.plot(kind='bar', color='skyblue')  # Customize color as needed\n",
        "    plt.title('Number of Tickets per Queue')\n",
        "    plt.xlabel('Queue')\n",
        "    plt.ylabel('Number of Tickets')\n",
        "    plt.xticks(rotation=45, ha='right')  # Rotate x-axis labels for better readability\n",
        "    plt.tight_layout()  # Adjust layout to prevent labels from overlapping\n",
        "    plt.show()\n",
        "\n",
        "except FileNotFoundError:\n",
        "    print(\"Error: helpdesk_customer_tickets.csv not found. Please upload the file or provide the correct path.\")\n",
        "except KeyError:\n",
        "    print(\"Error: 'queue' column not found in the CSV file.\")"
      ],
      "metadata": {
        "colab": {
          "base_uri": "https://localhost:8080/",
          "height": 607
        },
        "id": "CA0jmJE7vR2v",
        "outputId": "0bce0471-9fa1-4e95-8ae7-ab70464aad32"
      },
      "execution_count": null,
      "outputs": [
        {
          "output_type": "display_data",
          "data": {
            "text/plain": [
              "<Figure size 1000x600 with 1 Axes>"
            ],
            "image/png": "[encoded data removed]"
          },
          "metadata": {}
        }
      ]
    },
    {
      "cell_type": "code",
      "source": [
        "df[\"queue\"].value_counts()"
      ],
      "metadata": {
        "colab": {
          "base_uri": "https://localhost:8080/",
          "height": 429
        },
        "id": "gGg8A8Eyxaks",
        "outputId": "966bd6d0-9231-4565-d30a-4a9790c17a6b"
      },
      "execution_count": null,
      "outputs": [
        {
          "output_type": "execute_result",
          "data": {
            "text/plain": [
              "queue\n",
              "Technical Support                  210\n",
              "Product Support                     93\n",
              "Customer Service                    85\n",
              "IT Support                          77\n",
              "Billing and Payments                46\n",
              "Returns and Exchanges               41\n",
              "Human Resources                     15\n",
              "Service Outages and Maintenance     15\n",
              "Sales and Pre-Sales                 13\n",
              "General Inquiry                      5\n",
              "Name: count, dtype: int64"
            ],
            "text/html": [
              "<div>\n",
              "<style scoped>\n",
              "    .dataframe tbody tr th:only-of-type {\n",
              "        vertical-align: middle;\n",
              "    }\n",
              "\n",
              "    .dataframe tbody tr th {\n",
              "        vertical-align: top;\n",
              "    }\n",
              "\n",
              "    .dataframe thead th {\n",
              "        text-align: right;\n",
              "    }\n",
              "</style>\n",
              "<table border=\"1\" class=\"dataframe\">\n",
              "  <thead>\n",
              "    <tr style=\"text-align: right;\">\n",
              "      <th></th>\n",
              "      <th>count</th>\n",
              "    </tr>\n",
              "    <tr>\n",
              "      <th>queue</th>\n",
              "      <th></th>\n",
              "    </tr>\n",
              "  </thead>\n",
              "  <tbody>\n",
              "    <tr>\n",
              "      <th>Technical Support</th>\n",
              "      <td>210</td>\n",
              "    </tr>\n",
              "    <tr>\n",
              "      <th>Product Support</th>\n",
              "      <td>93</td>\n",
              "    </tr>\n",
              "    <tr>\n",
              "      <th>Customer Service</th>\n",
              "      <td>85</td>\n",
              "    </tr>\n",
              "    <tr>\n",
              "      <th>IT Support</th>\n",
              "      <td>77</td>\n",
              "    </tr>\n",
              "    <tr>\n",
              "      <th>Billing and Payments</th>\n",
              "      <td>46</td>\n",
              "    </tr>\n",
              "    <tr>\n",
              "      <th>Returns and Exchanges</th>\n",
              "      <td>41</td>\n",
              "    </tr>\n",
              "    <tr>\n",
              "      <th>Human Resources</th>\n",
              "      <td>15</td>\n",
              "    </tr>\n",
              "    <tr>\n",
              "      <th>Service Outages and Maintenance</th>\n",
              "      <td>15</td>\n",
              "    </tr>\n",
              "    <tr>\n",
              "      <th>Sales and Pre-Sales</th>\n",
              "      <td>13</td>\n",
              "    </tr>\n",
              "    <tr>\n",
              "      <th>General Inquiry</th>\n",
              "      <td>5</td>\n",
              "    </tr>\n",
              "  </tbody>\n",
              "</table>\n",
              "</div><br><label><b>dtype:</b> int64</label>"
            ]
          },
          "metadata": {},
          "execution_count": 15
        }
      ]
    },
    {
      "cell_type": "code",
      "source": [
        "\n",
        "\n",
        "import pandas as pd\n",
        "\n",
        "try:\n",
        "    df = pd.read_csv('helpdesk_customer_tickets.csv')\n",
        "\n",
        "    # Group by 'queue' and count tickets, then sort in descending order\n",
        "    queue_ticket_counts = df.groupby('queue')['queue'].count().sort_values(ascending=False)\n",
        "\n",
        "    # Create a DataFrame for tabular representation\n",
        "    queue_summary = pd.DataFrame({'Queue': queue_ticket_counts.index,\n",
        "                                  'Number of Tickets': queue_ticket_counts.values})\n",
        "\n",
        "    print(queue_summary)\n",
        "\n",
        "except FileNotFoundError:\n",
        "    print(\"Error: helpdesk_customer_tickets.csv not found. Please upload the file or provide the correct path.\")\n",
        "except KeyError:\n",
        "    print(\"Error: 'queue' column not found in the CSV file.\")"
      ],
      "metadata": {
        "colab": {
          "base_uri": "https://localhost:8080/"
        },
        "id": "5alKrWmwvRw5",
        "outputId": "a4f6eafe-15ef-4321-bbbb-683672a4d274"
      },
      "execution_count": null,
      "outputs": [
        {
          "output_type": "stream",
          "name": "stdout",
          "text": [
            "                             Queue  Number of Tickets\n",
            "0                Technical Support                210\n",
            "1                  Product Support                 93\n",
            "2                 Customer Service                 85\n",
            "3                       IT Support                 77\n",
            "4             Billing and Payments                 46\n",
            "5            Returns and Exchanges                 41\n",
            "6                  Human Resources                 15\n",
            "7  Service Outages and Maintenance                 15\n",
            "8              Sales and Pre-Sales                 13\n",
            "9                  General Inquiry                  5\n"
          ]
        }
      ]
    },
    {
      "cell_type": "code",
      "source": [
        "!pip install groq\n",
        "\n"
      ],
      "metadata": {
        "colab": {
          "base_uri": "https://localhost:8080/"
        },
        "id": "Szz9VaifJsMQ",
        "outputId": "e07cf172-cc87-46ac-c308-57dd8f8d5f7f"
      },
      "execution_count": null,
      "outputs": [
        {
          "output_type": "stream",
          "name": "stdout",
          "text": [
            "Collecting groq\n",
            "  Downloading groq-0.13.1-py3-none-any.whl.metadata (14 kB)\n",
            "Requirement already satisfied: anyio<5,>=3.5.0 in /usr/local/lib/python3.10/dist-packages (from groq) (3.7.1)\n",
            "Requirement already satisfied: distro<2,>=1.7.0 in /usr/local/lib/python3.10/dist-packages (from groq) (1.9.0)\n",
            "Requirement already satisfied: httpx<1,>=0.23.0 in /usr/local/lib/python3.10/dist-packages (from groq) (0.28.1)\n",
            "Requirement already satisfied: pydantic<3,>=1.9.0 in /usr/local/lib/python3.10/dist-packages (from groq) (2.10.3)\n",
            "Requirement already satisfied: sniffio in /usr/local/lib/python3.10/dist-packages (from groq) (1.3.1)\n",
            "Requirement already satisfied: typing-extensions<5,>=4.10 in /usr/local/lib/python3.10/dist-packages (from groq) (4.12.2)\n",
            "Requirement already satisfied: idna>=2.8 in /usr/local/lib/python3.10/dist-packages (from anyio<5,>=3.5.0->groq) (3.10)\n",
            "Requirement already satisfied: exceptiongroup in /usr/local/lib/python3.10/dist-packages (from anyio<5,>=3.5.0->groq) (1.2.2)\n",
            "Requirement already satisfied: certifi in /usr/local/lib/python3.10/dist-packages (from httpx<1,>=0.23.0->groq) (2024.12.14)\n",
            "Requirement already satisfied: httpcore==1.* in /usr/local/lib/python3.10/dist-packages (from httpx<1,>=0.23.0->groq) (1.0.7)\n",
            "Requirement already satisfied: h11<0.15,>=0.13 in /usr/local/lib/python3.10/dist-packages (from httpcore==1.*->httpx<1,>=0.23.0->groq) (0.14.0)\n",
            "Requirement already satisfied: annotated-types>=0.6.0 in /usr/local/lib/python3.10/dist-packages (from pydantic<3,>=1.9.0->groq) (0.7.0)\n",
            "Requirement already satisfied: pydantic-core==2.27.1 in /usr/local/lib/python3.10/dist-packages (from pydantic<3,>=1.9.0->groq) (2.27.1)\n",
            "Downloading groq-0.13.1-py3-none-any.whl (109 kB)\n",
            "\u001b[?25l   \u001b[90m━━━━━━━━━━━━━━━━━━━━━━━━━━━━━━━━━━━━━━━━\u001b[0m \u001b[32m0.0/109.1 kB\u001b[0m \u001b[31m?\u001b[0m eta \u001b[36m-:--:--\u001b[0m\r\u001b[2K   \u001b[90m━━━━━━━━━━━━━━━━━━━━━━━━━━━━━━━━━━━━━━━━\u001b[0m \u001b[32m109.1/109.1 kB\u001b[0m \u001b[31m8.9 MB/s\u001b[0m eta \u001b[36m0:00:00\u001b[0m\n",
            "\u001b[?25hInstalling collected packages: groq\n",
            "Successfully installed groq-0.13.1\n"
          ]
        }
      ]
    },
    {
      "cell_type": "markdown",
      "source": [
        "Use of llama3-8b-8192 gen ai model to analyse sentiments\n"
      ],
      "metadata": {
        "id": "qpK51V9sxQkR"
      }
    },
    {
      "cell_type": "code",
      "source": [
        "import os\n",
        "\n",
        "# Set the API key as an environment variable\n",
        "os.environ[\"GROQ_API_KEY\"] = \"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\"\n",
        "\n",
        "# Access the API key\n",
        "print(os.environ[\"GROQ_API_KEY\"])\n"
      ],
      "metadata": {
        "colab": {
          "base_uri": "https://localhost:8080/"
        },
        "id": "gDZOYNpoKbTc",
        "outputId": "9645f3d8-7dc0-492b-a543-62abef575e2b"
      },
      "execution_count": null,
      "outputs": [
        {
          "output_type": "stream",
          "name": "stdout",
          "text": [
            "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\n"
          ]
        }
      ]
    },
    {
      "cell_type": "code",
      "source": [
        "# Export the API key\n",
        "!export GROQ_API_KEY=\"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\"\n"
      ],
      "metadata": {
        "id": "qAoaVzmULdf2"
      },
      "execution_count": null,
      "outputs": []
    },
    {
      "cell_type": "code",
      "source": [
        "from groq import Groq\n",
        "\n",
        "# Replace with your actual API key\n",
        "client = Groq(api_key=\"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\")\n",
        "\n",
        "# Test the connection\n",
        "try:\n",
        "    response = client.models.list()  # or another simple API call\n",
        "    print(response)\n",
        "except Exception as e:\n",
        "    print(\"Authentication failed:\", e)\n",
        "\n"
      ],
      "metadata": {
        "colab": {
          "base_uri": "https://localhost:8080/"
        },
        "id": "jY3OfegjM7Ct",
        "outputId": "e897a037-da3d-4baa-96c0-8d0b9643c4ed"
      },
      "execution_count": null,
      "outputs": [
        {
          "output_type": "stream",
          "name": "stdout",
          "text": [
            "ModelListResponse(data=[Model(id='mixtral-8x7b-32768', created=1693721698, object='model', owned_by='Mistral AI', active=True, context_window=32768, public_apps=None), Model(id='llama3-70b-8192', created=1693721698, object='model', owned_by='Meta', active=True, context_window=8192, public_apps=None), Model(id='llama-3.2-3b-preview', created=1727224290, object='model', owned_by='Meta', active=True, context_window=8192, public_apps=None), Model(id='gemma2-9b-it', created=1693721698, object='model', owned_by='Google', active=True, context_window=8192, public_apps=None), Model(id='llama-3.2-90b-vision-preview', created=1727226914, object='model', owned_by='Meta', active=True, context_window=8192, public_apps=None), Model(id='llama3-groq-70b-8192-tool-use-preview', created=1693721698, object='model', owned_by='Groq', active=True, context_window=8192, public_apps=None), Model(id='whisper-large-v3-turbo', created=1728413088, object='model', owned_by='OpenAI', active=True, context_window=448, public_apps=None), Model(id='llama3-8b-8192', created=1693721698, object='model', owned_by='Meta', active=True, context_window=8192, public_apps=None), Model(id='llama3-groq-8b-8192-tool-use-preview', created=1693721698, object='model', owned_by='Groq', active=True, context_window=8192, public_apps=None), Model(id='llama-3.2-1b-preview', created=1727224268, object='model', owned_by='Meta', active=True, context_window=8192, public_apps=None), Model(id='llama-3.2-11b-vision-preview', created=1727226869, object='model', owned_by='Meta', active=True, context_window=8192, public_apps=None), Model(id='whisper-large-v3', created=1693721698, object='model', owned_by='OpenAI', active=True, context_window=448, public_apps=None), Model(id='distil-whisper-large-v3-en', created=1693721698, object='model', owned_by='Hugging Face', active=True, context_window=448, public_apps=None), Model(id='llama-guard-3-8b', created=1693721698, object='model', owned_by='Meta', active=True, context_window=8192, public_apps=None), Model(id='llama-3.3-70b-specdec', created=1733505017, object='model', owned_by='Meta', active=True, context_window=8192, public_apps=None), Model(id='llama-3.3-70b-versatile', created=1733447754, object='model', owned_by='Meta', active=True, context_window=32768, public_apps=None), Model(id='llama-3.1-8b-instant', created=1693721698, object='model', owned_by='Meta', active=True, context_window=131072, public_apps=None), Model(id='llama-3.1-70b-versatile', created=1693721698, object='model', owned_by='Meta', active=True, context_window=32768, public_apps=None)], object='list')\n"
          ]
        }
      ]
    },
    {
      "cell_type": "code",
      "source": [
        "from groq import Groq\n",
        "\n",
        "# Initialize the client with your API key\n",
        "client = Groq(api_key=\"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\")\n",
        "\n",
        "# Define the input text for sentiment analysis\n",
        "input_text = \"The customer service was excellent, I highly recommend this company.\"\n",
        "\n",
        "# Make the API call to analyze sentiment\n",
        "try:\n",
        "    completion = client.chat.completions.create(\n",
        "        model=\"llama3-8b-8192\",  # Ensure this is the correct model name\n",
        "        messages=[\n",
        "            {\n",
        "                \"role\": \"system\",\n",
        "                \"content\": \"want to analyze the sentiment of the input text\"\n",
        "            },\n",
        "            {\n",
        "                \"role\": \"user\",\n",
        "                \"content\": input_text\n",
        "            }\n",
        "        ],\n",
        "        temperature=1,\n",
        "        max_tokens=1024,\n",
        "        top_p=1,\n",
        "        stream=True,  # Stream response in chunks\n",
        "        stop=None,\n",
        "    )\n",
        "\n",
        "    # Print the streaming output\n",
        "    for chunk in completion:\n",
        "        # Accessing the content directly from the chunk\n",
        "        if hasattr(chunk.choices[0].delta, 'content'):\n",
        "            print(chunk.choices[0].delta.content, end=\"\")\n",
        "\n",
        "except Exception as e:\n",
        "    print(\"Error:\", e)\n"
      ],
      "metadata": {
        "colab": {
          "base_uri": "https://localhost:8080/"
        },
        "id": "LHBTTICoQwzZ",
        "outputId": "1f3f9977-ebc0-45bd-b4ed-b433c1556221"
      },
      "execution_count": null,
      "outputs": [
        {
          "output_type": "stream",
          "name": "stdout",
          "text": [
            "A positive review!\n",
            "\n",
            "Let's analyze the sentiment of this input text:\n",
            "\n",
            "**Sentiment:** POSITIVE\n",
            "\n",
            "**Reasons:**\n",
            "\n",
            "1. The customer service was \"excellent\", which is a strong and positive adjective.\n",
            "2. The reviewer explicitly states that they \"highly recommend\" the company, which indicates a high level of satisfaction.\n",
            "\n",
            "**Sentiment Intensity:** HIGH\n",
            "\n",
            "**Sentiment Keywords:** excellent, highly recommend\n",
            "\n",
            "Overall, the sentiment of this input text is overwhelmingly POSITIVE, indicating that the customer had a very good experience with the company.None"
          ]
        }
      ]
    },
    {
      "cell_type": "markdown",
      "source": [],
      "metadata": {
        "id": "14cSMnGLRQ7v"
      }
    },
    {
      "cell_type": "code",
      "source": [
        "# prompt:  You are an Support Agent. You have to decide on sentiment of the given ticket for which you are given:\n",
        "#     1. Title\n",
        "#     2. Chat History\n",
        "#     and run the fucntion 'save_sentiment' for same.  and why it is giving that perticular sentiment\n",
        "\n",
        "def save_sentiment(title, chat_history):\n",
        "    \"\"\"\n",
        "    Analyzes the sentiment of a customer support ticket and saves it.\n",
        "\n",
        "    Args:\n",
        "        title: The title of the support ticket.\n",
        "        chat_history: The chat history of the support ticket.\n",
        "    \"\"\"\n",
        "\n",
        "    # Combine title and chat history for comprehensive sentiment analysis\n",
        "    text_for_analysis = f\"{title}\\n{chat_history}\"\n",
        "\n",
        "    # Use Groq API for sentiment analysis\n",
        "    client = Groq(api_key=\"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\")\n",
        "    try:\n",
        "        completion = client.chat.completions.create(\n",
        "            model=\"llama3-8b-8192\",\n",
        "            messages=[\n",
        "                {\"role\": \"system\", \"content\": \"Analyze the sentiment of the input text. Respond with 'positive', 'negative', or 'neutral'.\"},\n",
        "                {\"role\": \"user\", \"content\": text_for_analysis},\n",
        "            ],\n",
        "            temperature=0.2,  # Lower temperature for more deterministic output\n",
        "            max_tokens=5,  # Limit the response to a single word\n",
        "        )\n",
        "        sentiment = completion.choices[0].message.content.strip().lower()\n",
        "\n",
        "        # Validate sentiment output\n",
        "        if sentiment not in [\"positive\", \"negative\", \"neutral\"]:\n",
        "          print(\"Warning: Groq API returned an unexpected sentiment:\", sentiment)\n",
        "          sentiment = \"neutral\" # Default to neutral if unexpected output\n",
        "\n",
        "        print(f\"Sentiment: {sentiment}\")\n",
        "\n",
        "        # Provide reasoning based on the detected sentiment\n",
        "        if sentiment == \"positive\":\n",
        "            print(\"Reasoning: The title and chat history indicate customer satisfaction and positive feedback.\")\n",
        "        elif sentiment == \"negative\":\n",
        "            print(\"Reasoning: The title and chat history express customer dissatisfaction, complaints, or negative experiences.\")\n",
        "        else:  # Neutral\n",
        "            print(\"Reasoning: The title and chat history do not clearly express positive or negative sentiment.\")\n",
        "\n",
        "        # Save the sentiment (replace with your actual saving mechanism)\n",
        "        # Example: Store in a DataFrame or database\n",
        "        # ...\n",
        "\n",
        "    except Exception as e:\n",
        "        print(f\"Error analyzing sentiment: {e}\")\n",
        "        sentiment = \"neutral\"  # Default to neutral in case of error\n",
        "        print(f\"Defaulting to sentiment: {sentiment}\")\n",
        "\n",
        "# Example usage\n",
        "title = \"Issue with Order #12345\"\n",
        "chat_history = \"I placed an order yesterday, but it hasn't arrived yet. I'm very disappointed with the shipping time.\"\n",
        "save_sentiment(title, chat_history)"
      ],
      "metadata": {
        "colab": {
          "base_uri": "https://localhost:8080/"
        },
        "id": "Aw0gxHhfRQla",
        "outputId": "a1b87e59-4c95-45db-b165-0aad372464ce"
      },
      "execution_count": null,
      "outputs": [
        {
          "output_type": "stream",
          "name": "stdout",
          "text": [
            "Ticket ID: 123, Sentiment: positive, Reason: The sentiment of this customer support ticket is NEGATIVE.\n",
            "\n",
            "Here's a breakdown of the sentiment:\n",
            "\n",
            "* The customer's initial complaint about the website's slow loading time is a negative statement.\n",
            "* The agent's suggestion to clear the cache is a reasonable attempt to troubleshoot the issue, but it's not a solution that addresses the root cause of the problem.\n",
            "* The customer's response expressing continued dissatisfaction indicates that they are not satisfied with the agent's suggestion and are still experiencing issues with the website's loading time.\n",
            "\n",
            "Overall, the customer is frustrated with the slow website and is not happy with the support they have received so far. The agent may need to try a more comprehensive solution or escalate the issue to a higher level of support to resolve the customer's concerns.\n",
            "Ticket ID: 456, Sentiment: positive, Reason: Based on the provided information, the sentiment of the customer support ticket can be analyzed as follows:\n",
            "\n",
            "* The customer is expressing frustration and dissatisfaction with the new update, which suggests a negative sentiment.\n",
            "* The customer is having an issue with the new update, which implies that they are experiencing a problem or inconvenience.\n",
            "* The agent helped the customer to rollback the update, which suggests that the agent was able to resolve the customer's issue.\n",
            "\n",
            "Overall, the sentiment of the customer support ticket is primarily negative, as the customer is expressing frustration with the new update. However, the fact that the agent was able to resolve the issue and rollback the update suggests that the sentiment may be shifting towards a more positive outcome, as the customer's problem was resolved.\n"
          ]
        }
      ]
    }
  ]
}